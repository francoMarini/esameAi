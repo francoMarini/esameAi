{
 "cells": [
  {
   "cell_type": "markdown",
   "metadata": {},
   "source": [
    "## Dipendenze "
   ]
  },
  {
   "cell_type": "code",
   "execution_count": 1,
   "metadata": {},
   "outputs": [
    {
     "name": "stdout",
     "output_type": "stream",
     "text": [
      "Requirement already satisfied: matplotlib==3.1.3 in c:\\users\\fast-\\anaconda3\\lib\\site-packages (from -r requirements.txt (line 1)) (3.1.3)\n",
      "Requirement already satisfied: numpy==1.18.1 in c:\\users\\fast-\\anaconda3\\lib\\site-packages (from -r requirements.txt (line 2)) (1.18.1)\n",
      "Requirement already satisfied: pandas==1.0.1 in c:\\users\\fast-\\anaconda3\\lib\\site-packages (from -r requirements.txt (line 3)) (1.0.1)\n",
      "Requirement already satisfied: scikit-learn==0.22.1 in c:\\users\\fast-\\anaconda3\\lib\\site-packages (from -r requirements.txt (line 4)) (0.22.1)\n",
      "Requirement already satisfied: kiwisolver>=1.0.1 in c:\\users\\fast-\\anaconda3\\lib\\site-packages (from matplotlib==3.1.3->-r requirements.txt (line 1)) (1.1.0)\n",
      "Requirement already satisfied: pyparsing!=2.0.4,!=2.1.2,!=2.1.6,>=2.0.1 in c:\\users\\fast-\\anaconda3\\lib\\site-packages (from matplotlib==3.1.3->-r requirements.txt (line 1)) (2.4.6)\n",
      "Requirement already satisfied: python-dateutil>=2.1 in c:\\users\\fast-\\anaconda3\\lib\\site-packages (from matplotlib==3.1.3->-r requirements.txt (line 1)) (2.8.1)\n",
      "Requirement already satisfied: cycler>=0.10 in c:\\users\\fast-\\anaconda3\\lib\\site-packages (from matplotlib==3.1.3->-r requirements.txt (line 1)) (0.10.0)\n",
      "Requirement already satisfied: pytz>=2017.2 in c:\\users\\fast-\\anaconda3\\lib\\site-packages (from pandas==1.0.1->-r requirements.txt (line 3)) (2019.3)\n",
      "Requirement already satisfied: scipy>=0.17.0 in c:\\users\\fast-\\anaconda3\\lib\\site-packages (from scikit-learn==0.22.1->-r requirements.txt (line 4)) (1.4.1)\n",
      "Requirement already satisfied: joblib>=0.11 in c:\\users\\fast-\\anaconda3\\lib\\site-packages (from scikit-learn==0.22.1->-r requirements.txt (line 4)) (0.14.1)\n",
      "Requirement already satisfied: setuptools in c:\\users\\fast-\\anaconda3\\lib\\site-packages (from kiwisolver>=1.0.1->matplotlib==3.1.3->-r requirements.txt (line 1)) (45.2.0.post20200210)\n",
      "Requirement already satisfied: six>=1.5 in c:\\users\\fast-\\anaconda3\\lib\\site-packages (from python-dateutil>=2.1->matplotlib==3.1.3->-r requirements.txt (line 1)) (1.14.0)\n"
     ]
    }
   ],
   "source": [
    "!pip install -r requirements.txt"
   ]
  },
  {
   "cell_type": "markdown",
   "metadata": {},
   "source": [
    "# Librerie"
   ]
  },
  {
   "cell_type": "code",
   "execution_count": 2,
   "metadata": {},
   "outputs": [],
   "source": [
    "import numpy as np \n",
    "import pandas as pd \n",
    "from sklearn.model_selection import train_test_split "
   ]
  },
  {
   "cell_type": "markdown",
   "metadata": {},
   "source": [
    "## Creo train.csv e test.csv "
   ]
  },
  {
   "cell_type": "code",
   "execution_count": 3,
   "metadata": {},
   "outputs": [],
   "source": [
    "dataset=pd.read_csv('appointment_data.csv')\n",
    "train, test = train_test_split(dataset, test_size=0.2, random_state=0)\n",
    "train.to_csv(\"train.csv\", index=False)\n",
    "test.to_csv(\"test.csv\", index=False)"
   ]
  },
  {
   "cell_type": "code",
   "execution_count": null,
   "metadata": {},
   "outputs": [],
   "source": []
  }
 ],
 "metadata": {
  "kernelspec": {
   "display_name": "Python 3",
   "language": "python",
   "name": "python3"
  },
  "language_info": {
   "codemirror_mode": {
    "name": "ipython",
    "version": 3
   },
   "file_extension": ".py",
   "mimetype": "text/x-python",
   "name": "python",
   "nbconvert_exporter": "python",
   "pygments_lexer": "ipython3",
   "version": "3.7.6"
  }
 },
 "nbformat": 4,
 "nbformat_minor": 4
}
