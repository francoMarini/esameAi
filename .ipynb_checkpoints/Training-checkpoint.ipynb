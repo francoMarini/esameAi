{
 "cells": [
  {
   "cell_type": "markdown",
   "metadata": {},
   "source": [
    "## Dipendenze"
   ]
  },
  {
   "cell_type": "code",
   "execution_count": null,
   "metadata": {},
   "outputs": [],
   "source": [
    "!pip install -r requirements.txt"
   ]
  },
  {
   "cell_type": "markdown",
   "metadata": {},
   "source": [
    "# Librerie"
   ]
  },
  {
   "cell_type": "code",
   "execution_count": 1,
   "metadata": {},
   "outputs": [],
   "source": [
    "import numpy as np \n",
    "import pandas as pd \n",
    "import matplotlib.pyplot as plt\n",
    "from sklearn.preprocessing import LabelEncoder\n",
    "from sklearn.model_selection import train_test_split\n",
    "from sklearn.metrics import plot_confusion_matrix\n",
    "from sklearn.linear_model import LogisticRegression\n",
    "from sklearn.metrics import accuracy_score"
   ]
  },
  {
   "cell_type": "markdown",
   "metadata": {},
   "source": [
    "## Importo i Dataset"
   ]
  },
  {
   "cell_type": "code",
   "execution_count": 2,
   "metadata": {},
   "outputs": [],
   "source": [
    "train = pd.read_csv('train.csv')\n",
    "test = pd.read_csv('test.csv')"
   ]
  },
  {
   "cell_type": "markdown",
   "metadata": {},
   "source": [
    "## Esploro i Dataset "
   ]
  },
  {
   "cell_type": "code",
   "execution_count": 3,
   "metadata": {},
   "outputs": [
    {
     "data": {
      "text/plain": [
       "['No-show',\n",
       " 'PatientId',\n",
       " 'AppointmentID',\n",
       " 'Gender',\n",
       " 'ScheduledDay',\n",
       " 'AppointmentDay',\n",
       " 'Age',\n",
       " 'Neighbourhood',\n",
       " 'Scholarship',\n",
       " 'Hipertension',\n",
       " 'Diabetes',\n",
       " 'Alcoholism',\n",
       " 'Handcap',\n",
       " 'SMS_received']"
      ]
     },
     "execution_count": 3,
     "metadata": {},
     "output_type": "execute_result"
    }
   ],
   "source": [
    "#Features\n",
    "list(train)"
   ]
  },
  {
   "cell_type": "code",
   "execution_count": 4,
   "metadata": {},
   "outputs": [
    {
     "name": "stdout",
     "output_type": "stream",
     "text": [
      "No-show           0\n",
      "PatientId         0\n",
      "AppointmentID     0\n",
      "Gender            0\n",
      "ScheduledDay      0\n",
      "AppointmentDay    0\n",
      "Age               0\n",
      "Neighbourhood     0\n",
      "Scholarship       0\n",
      "Hipertension      0\n",
      "Diabetes          0\n",
      "Alcoholism        0\n",
      "Handcap           0\n",
      "SMS_received      0\n",
      "dtype: int64\n",
      "\n",
      "***************\n",
      "\n",
      "No-show           0\n",
      "PatientId         0\n",
      "AppointmentID     0\n",
      "Gender            0\n",
      "ScheduledDay      0\n",
      "AppointmentDay    0\n",
      "Age               0\n",
      "Neighbourhood     0\n",
      "Scholarship       0\n",
      "Hipertension      0\n",
      "Diabetes          0\n",
      "Alcoholism        0\n",
      "Handcap           0\n",
      "SMS_received      0\n",
      "dtype: int64\n"
     ]
    }
   ],
   "source": [
    "#Controllo quanti sono i valori mancanti di Train\n",
    "print(train.isnull().sum())\n",
    "\n",
    "print(\"\\n***************\\n\")\n",
    "\n",
    "#Controllo quanti sono i valori mancanti di Test\n",
    "print(test.isnull().sum())"
   ]
  },
  {
   "cell_type": "code",
   "execution_count": 5,
   "metadata": {},
   "outputs": [
    {
     "name": "stdout",
     "output_type": "stream",
     "text": [
      "<class 'pandas.core.frame.DataFrame'>\n",
      "RangeIndex: 70736 entries, 0 to 70735\n",
      "Data columns (total 14 columns):\n",
      " #   Column          Non-Null Count  Dtype  \n",
      "---  ------          --------------  -----  \n",
      " 0   No-show         70736 non-null  object \n",
      " 1   PatientId       70736 non-null  float64\n",
      " 2   AppointmentID   70736 non-null  int64  \n",
      " 3   Gender          70736 non-null  object \n",
      " 4   ScheduledDay    70736 non-null  object \n",
      " 5   AppointmentDay  70736 non-null  object \n",
      " 6   Age             70736 non-null  int64  \n",
      " 7   Neighbourhood   70736 non-null  object \n",
      " 8   Scholarship     70736 non-null  int64  \n",
      " 9   Hipertension    70736 non-null  int64  \n",
      " 10  Diabetes        70736 non-null  int64  \n",
      " 11  Alcoholism      70736 non-null  int64  \n",
      " 12  Handcap         70736 non-null  int64  \n",
      " 13  SMS_received    70736 non-null  int64  \n",
      "dtypes: float64(1), int64(8), object(5)\n",
      "memory usage: 7.6+ MB\n"
     ]
    }
   ],
   "source": [
    "#Osserviamo la tipologia delle features\n",
    "train.info()"
   ]
  },
  {
   "cell_type": "code",
   "execution_count": 6,
   "metadata": {},
   "outputs": [
    {
     "data": {
      "text/html": [
       "<div>\n",
       "<style scoped>\n",
       "    .dataframe tbody tr th:only-of-type {\n",
       "        vertical-align: middle;\n",
       "    }\n",
       "\n",
       "    .dataframe tbody tr th {\n",
       "        vertical-align: top;\n",
       "    }\n",
       "\n",
       "    .dataframe thead th {\n",
       "        text-align: right;\n",
       "    }\n",
       "</style>\n",
       "<table border=\"1\" class=\"dataframe\">\n",
       "  <thead>\n",
       "    <tr style=\"text-align: right;\">\n",
       "      <th></th>\n",
       "      <th>No-show</th>\n",
       "      <th>PatientId</th>\n",
       "      <th>AppointmentID</th>\n",
       "      <th>Gender</th>\n",
       "      <th>ScheduledDay</th>\n",
       "      <th>AppointmentDay</th>\n",
       "      <th>Age</th>\n",
       "      <th>Neighbourhood</th>\n",
       "      <th>Scholarship</th>\n",
       "      <th>Hipertension</th>\n",
       "      <th>Diabetes</th>\n",
       "      <th>Alcoholism</th>\n",
       "      <th>Handcap</th>\n",
       "      <th>SMS_received</th>\n",
       "    </tr>\n",
       "  </thead>\n",
       "  <tbody>\n",
       "    <tr>\n",
       "      <th>0</th>\n",
       "      <td>Yes</td>\n",
       "      <td>1.476612e+11</td>\n",
       "      <td>5679466</td>\n",
       "      <td>F</td>\n",
       "      <td>2016-05-10T09:57:55Z</td>\n",
       "      <td>2016-05-17T00:00:00Z</td>\n",
       "      <td>44</td>\n",
       "      <td>CARATOÍRA</td>\n",
       "      <td>0</td>\n",
       "      <td>0</td>\n",
       "      <td>0</td>\n",
       "      <td>0</td>\n",
       "      <td>0</td>\n",
       "      <td>0</td>\n",
       "    </tr>\n",
       "    <tr>\n",
       "      <th>1</th>\n",
       "      <td>Yes</td>\n",
       "      <td>5.163147e+14</td>\n",
       "      <td>5571658</td>\n",
       "      <td>F</td>\n",
       "      <td>2016-04-12T09:24:13Z</td>\n",
       "      <td>2016-05-16T00:00:00Z</td>\n",
       "      <td>11</td>\n",
       "      <td>MARIA ORTIZ</td>\n",
       "      <td>0</td>\n",
       "      <td>0</td>\n",
       "      <td>0</td>\n",
       "      <td>0</td>\n",
       "      <td>0</td>\n",
       "      <td>0</td>\n",
       "    </tr>\n",
       "    <tr>\n",
       "      <th>2</th>\n",
       "      <td>No</td>\n",
       "      <td>2.488843e+12</td>\n",
       "      <td>5690749</td>\n",
       "      <td>F</td>\n",
       "      <td>2016-05-12T10:35:23Z</td>\n",
       "      <td>2016-05-16T00:00:00Z</td>\n",
       "      <td>46</td>\n",
       "      <td>JARDIM CAMBURI</td>\n",
       "      <td>0</td>\n",
       "      <td>0</td>\n",
       "      <td>0</td>\n",
       "      <td>0</td>\n",
       "      <td>0</td>\n",
       "      <td>0</td>\n",
       "    </tr>\n",
       "    <tr>\n",
       "      <th>3</th>\n",
       "      <td>Yes</td>\n",
       "      <td>9.618864e+14</td>\n",
       "      <td>5511964</td>\n",
       "      <td>F</td>\n",
       "      <td>2016-03-28T08:24:33Z</td>\n",
       "      <td>2016-05-06T00:00:00Z</td>\n",
       "      <td>75</td>\n",
       "      <td>JESUS DE NAZARETH</td>\n",
       "      <td>0</td>\n",
       "      <td>1</td>\n",
       "      <td>1</td>\n",
       "      <td>0</td>\n",
       "      <td>0</td>\n",
       "      <td>1</td>\n",
       "    </tr>\n",
       "    <tr>\n",
       "      <th>4</th>\n",
       "      <td>No</td>\n",
       "      <td>4.836462e+11</td>\n",
       "      <td>5750314</td>\n",
       "      <td>F</td>\n",
       "      <td>2016-05-31T08:44:06Z</td>\n",
       "      <td>2016-06-01T00:00:00Z</td>\n",
       "      <td>83</td>\n",
       "      <td>SANTA MARTHA</td>\n",
       "      <td>0</td>\n",
       "      <td>1</td>\n",
       "      <td>1</td>\n",
       "      <td>0</td>\n",
       "      <td>0</td>\n",
       "      <td>0</td>\n",
       "    </tr>\n",
       "  </tbody>\n",
       "</table>\n",
       "</div>"
      ],
      "text/plain": [
       "  No-show     PatientId  AppointmentID Gender          ScheduledDay  \\\n",
       "0     Yes  1.476612e+11        5679466      F  2016-05-10T09:57:55Z   \n",
       "1     Yes  5.163147e+14        5571658      F  2016-04-12T09:24:13Z   \n",
       "2      No  2.488843e+12        5690749      F  2016-05-12T10:35:23Z   \n",
       "3     Yes  9.618864e+14        5511964      F  2016-03-28T08:24:33Z   \n",
       "4      No  4.836462e+11        5750314      F  2016-05-31T08:44:06Z   \n",
       "\n",
       "         AppointmentDay  Age      Neighbourhood  Scholarship  Hipertension  \\\n",
       "0  2016-05-17T00:00:00Z   44          CARATOÍRA            0             0   \n",
       "1  2016-05-16T00:00:00Z   11        MARIA ORTIZ            0             0   \n",
       "2  2016-05-16T00:00:00Z   46     JARDIM CAMBURI            0             0   \n",
       "3  2016-05-06T00:00:00Z   75  JESUS DE NAZARETH            0             1   \n",
       "4  2016-06-01T00:00:00Z   83       SANTA MARTHA            0             1   \n",
       "\n",
       "   Diabetes  Alcoholism  Handcap  SMS_received  \n",
       "0         0           0        0             0  \n",
       "1         0           0        0             0  \n",
       "2         0           0        0             0  \n",
       "3         1           0        0             1  \n",
       "4         1           0        0             0  "
      ]
     },
     "execution_count": 6,
     "metadata": {},
     "output_type": "execute_result"
    }
   ],
   "source": [
    "#Rapido sguardo al Dataset Train\n",
    "pd.set_option('max_columns', None)\n",
    "train.head()"
   ]
  },
  {
   "cell_type": "markdown",
   "metadata": {},
   "source": [
    "## Gestisco le date e gli orari "
   ]
  },
  {
   "cell_type": "code",
   "execution_count": 7,
   "metadata": {},
   "outputs": [],
   "source": [
    "# Converto ScheduledDay e AppointmentDay a datetime64\n",
    "train.ScheduledDay = train.ScheduledDay.apply(np.datetime64)\n",
    "train.AppointmentDay = train.AppointmentDay.apply(np.datetime64)\n",
    "\n",
    "test.ScheduledDay = test.ScheduledDay.apply(np.datetime64)\n",
    "test.AppointmentDay = test.AppointmentDay.apply(np.datetime64)"
   ]
  },
  {
   "cell_type": "code",
   "execution_count": 8,
   "metadata": {},
   "outputs": [],
   "source": [
    "#Le date e gli orari organizzati in questo modo non sono molto utili.\n",
    "\n",
    "#Il tempo di attesa potrebbe essere una feature importante\n",
    "train['WaitTime'] = (train.AppointmentDay.dt.date - train.ScheduledDay.dt.date).dt.days\n",
    "test['WaitTime'] = (test.AppointmentDay.dt.date - test.ScheduledDay.dt.date).dt.days\n",
    "\n",
    "#Ho pensato che anche il giorno della settimana in cui cade l'appuntamento possa incidere sulla soluzione\n",
    "train['AppointmentDayofWeek'] = train.AppointmentDay.dt.weekday\n",
    "test['AppointmentDayofWeek'] = test.AppointmentDay.dt.weekday"
   ]
  },
  {
   "cell_type": "markdown",
   "metadata": {},
   "source": [
    "## Eliminazione record caratterizzati da errori"
   ]
  },
  {
   "cell_type": "code",
   "execution_count": 9,
   "metadata": {},
   "outputs": [
    {
     "data": {
      "text/html": [
       "<div>\n",
       "<style scoped>\n",
       "    .dataframe tbody tr th:only-of-type {\n",
       "        vertical-align: middle;\n",
       "    }\n",
       "\n",
       "    .dataframe tbody tr th {\n",
       "        vertical-align: top;\n",
       "    }\n",
       "\n",
       "    .dataframe thead th {\n",
       "        text-align: right;\n",
       "    }\n",
       "</style>\n",
       "<table border=\"1\" class=\"dataframe\">\n",
       "  <thead>\n",
       "    <tr style=\"text-align: right;\">\n",
       "      <th></th>\n",
       "      <th>No-show</th>\n",
       "      <th>PatientId</th>\n",
       "      <th>AppointmentID</th>\n",
       "      <th>Gender</th>\n",
       "      <th>ScheduledDay</th>\n",
       "      <th>AppointmentDay</th>\n",
       "      <th>Age</th>\n",
       "      <th>Neighbourhood</th>\n",
       "      <th>Scholarship</th>\n",
       "      <th>Hipertension</th>\n",
       "      <th>Diabetes</th>\n",
       "      <th>Alcoholism</th>\n",
       "      <th>Handcap</th>\n",
       "      <th>SMS_received</th>\n",
       "      <th>WaitTime</th>\n",
       "      <th>AppointmentDayofWeek</th>\n",
       "    </tr>\n",
       "  </thead>\n",
       "  <tbody>\n",
       "    <tr>\n",
       "      <th>0</th>\n",
       "      <td>Yes</td>\n",
       "      <td>1.476612e+11</td>\n",
       "      <td>5679466</td>\n",
       "      <td>F</td>\n",
       "      <td>2016-05-10 09:57:55</td>\n",
       "      <td>2016-05-17</td>\n",
       "      <td>44</td>\n",
       "      <td>CARATOÍRA</td>\n",
       "      <td>0</td>\n",
       "      <td>0</td>\n",
       "      <td>0</td>\n",
       "      <td>0</td>\n",
       "      <td>0</td>\n",
       "      <td>0</td>\n",
       "      <td>7</td>\n",
       "      <td>1</td>\n",
       "    </tr>\n",
       "    <tr>\n",
       "      <th>1</th>\n",
       "      <td>Yes</td>\n",
       "      <td>5.163147e+14</td>\n",
       "      <td>5571658</td>\n",
       "      <td>F</td>\n",
       "      <td>2016-04-12 09:24:13</td>\n",
       "      <td>2016-05-16</td>\n",
       "      <td>11</td>\n",
       "      <td>MARIA ORTIZ</td>\n",
       "      <td>0</td>\n",
       "      <td>0</td>\n",
       "      <td>0</td>\n",
       "      <td>0</td>\n",
       "      <td>0</td>\n",
       "      <td>0</td>\n",
       "      <td>34</td>\n",
       "      <td>0</td>\n",
       "    </tr>\n",
       "    <tr>\n",
       "      <th>2</th>\n",
       "      <td>No</td>\n",
       "      <td>2.488843e+12</td>\n",
       "      <td>5690749</td>\n",
       "      <td>F</td>\n",
       "      <td>2016-05-12 10:35:23</td>\n",
       "      <td>2016-05-16</td>\n",
       "      <td>46</td>\n",
       "      <td>JARDIM CAMBURI</td>\n",
       "      <td>0</td>\n",
       "      <td>0</td>\n",
       "      <td>0</td>\n",
       "      <td>0</td>\n",
       "      <td>0</td>\n",
       "      <td>0</td>\n",
       "      <td>4</td>\n",
       "      <td>0</td>\n",
       "    </tr>\n",
       "    <tr>\n",
       "      <th>3</th>\n",
       "      <td>Yes</td>\n",
       "      <td>9.618864e+14</td>\n",
       "      <td>5511964</td>\n",
       "      <td>F</td>\n",
       "      <td>2016-03-28 08:24:33</td>\n",
       "      <td>2016-05-06</td>\n",
       "      <td>75</td>\n",
       "      <td>JESUS DE NAZARETH</td>\n",
       "      <td>0</td>\n",
       "      <td>1</td>\n",
       "      <td>1</td>\n",
       "      <td>0</td>\n",
       "      <td>0</td>\n",
       "      <td>1</td>\n",
       "      <td>39</td>\n",
       "      <td>4</td>\n",
       "    </tr>\n",
       "    <tr>\n",
       "      <th>4</th>\n",
       "      <td>No</td>\n",
       "      <td>4.836462e+11</td>\n",
       "      <td>5750314</td>\n",
       "      <td>F</td>\n",
       "      <td>2016-05-31 08:44:06</td>\n",
       "      <td>2016-06-01</td>\n",
       "      <td>83</td>\n",
       "      <td>SANTA MARTHA</td>\n",
       "      <td>0</td>\n",
       "      <td>1</td>\n",
       "      <td>1</td>\n",
       "      <td>0</td>\n",
       "      <td>0</td>\n",
       "      <td>0</td>\n",
       "      <td>1</td>\n",
       "      <td>2</td>\n",
       "    </tr>\n",
       "  </tbody>\n",
       "</table>\n",
       "</div>"
      ],
      "text/plain": [
       "  No-show     PatientId  AppointmentID Gender        ScheduledDay  \\\n",
       "0     Yes  1.476612e+11        5679466      F 2016-05-10 09:57:55   \n",
       "1     Yes  5.163147e+14        5571658      F 2016-04-12 09:24:13   \n",
       "2      No  2.488843e+12        5690749      F 2016-05-12 10:35:23   \n",
       "3     Yes  9.618864e+14        5511964      F 2016-03-28 08:24:33   \n",
       "4      No  4.836462e+11        5750314      F 2016-05-31 08:44:06   \n",
       "\n",
       "  AppointmentDay  Age      Neighbourhood  Scholarship  Hipertension  Diabetes  \\\n",
       "0     2016-05-17   44          CARATOÍRA            0             0         0   \n",
       "1     2016-05-16   11        MARIA ORTIZ            0             0         0   \n",
       "2     2016-05-16   46     JARDIM CAMBURI            0             0         0   \n",
       "3     2016-05-06   75  JESUS DE NAZARETH            0             1         1   \n",
       "4     2016-06-01   83       SANTA MARTHA            0             1         1   \n",
       "\n",
       "   Alcoholism  Handcap  SMS_received  WaitTime  AppointmentDayofWeek  \n",
       "0           0        0             0         7                     1  \n",
       "1           0        0             0        34                     0  \n",
       "2           0        0             0         4                     0  \n",
       "3           0        0             1        39                     4  \n",
       "4           0        0             0         1                     2  "
      ]
     },
     "execution_count": 9,
     "metadata": {},
     "output_type": "execute_result"
    }
   ],
   "source": [
    "train.head()"
   ]
  },
  {
   "cell_type": "code",
   "execution_count": 10,
   "metadata": {},
   "outputs": [],
   "source": [
    "#Elimino dal Train Set e dal Test Set, casi in cui \n",
    "#l'appuntamento è stato registrato dopo il giorno effettivo in cui è avvenuto l'appuntamento\n",
    "\n",
    "condizione1 = train[(train['AppointmentDay']<train['ScheduledDay'].dt.date)]\n",
    "condizione2 = test[(test['AppointmentDay']<test['ScheduledDay'].dt.date)]\n",
    "\n",
    "train = train.drop(condizione1.index, axis=0)\n",
    "test = test.drop(condizione2.index, axis=0)"
   ]
  },
  {
   "cell_type": "markdown",
   "metadata": {},
   "source": [
    "## Divisione fasce di età "
   ]
  },
  {
   "cell_type": "code",
   "execution_count": null,
   "metadata": {},
   "outputs": [],
   "source": [
    "#Questa trasformazione permetterà al modello di ragionare con un minor numero di valori discreti\n",
    "\n",
    "def age_category(age):\n",
    "    if (age<=20):\n",
    "        return 0\n",
    "    elif (age>20 and age<=39):\n",
    "        return 1\n",
    "    elif (age>39 and age<=59):\n",
    "        return 2\n",
    "    elif (age>59 and age<=79):\n",
    "        return 3\n",
    "    elif (age>79):\n",
    "        return 4\n",
    "    \n",
    "train['Age']= train.apply(lambda x: age_category(x['Age']), axis=1)\n",
    "test['Age']= test.apply(lambda x: age_category(x['Age']), axis=1)"
   ]
  },
  {
   "cell_type": "markdown",
   "metadata": {},
   "source": [
    "# Mapping "
   ]
  },
  {
   "cell_type": "code",
   "execution_count": null,
   "metadata": {},
   "outputs": [],
   "source": [
    "labelEncoder_X = LabelEncoder()\n",
    "train['Neighbourhood']=labelEncoder_X.fit_transform(train['Neighbourhood'])\n",
    "test['Neighbourhood']=labelEncoder_X.fit_transform(test['Neighbourhood'])\n",
    "\n",
    "noshow_mapping = {\"Yes\": 1,\"No\": 0}\n",
    "train['No-show'] = train['No-show'].map(noshow_mapping)\n",
    "test['No-show'] = test['No-show'].map(noshow_mapping)\n",
    "\n",
    "gender_mapping = {\"F\": 0, \"M\": 1}\n",
    "train['Gender'] = train['Gender'].map(gender_mapping)\n",
    "test['Gender'] = test['Gender'].map(gender_mapping)"
   ]
  },
  {
   "cell_type": "markdown",
   "metadata": {},
   "source": [
    "### Converto in float "
   ]
  },
  {
   "cell_type": "code",
   "execution_count": null,
   "metadata": {},
   "outputs": [],
   "source": [
    "train['PatientId'] = pd.to_numeric(train['PatientId'], errors = 'coerce')\n",
    "test['PatientId'] = pd.to_numeric(test['PatientId'], errors = 'coerce')\n",
    "\n",
    "train.dtypes"
   ]
  },
  {
   "cell_type": "markdown",
   "metadata": {},
   "source": [
    "## Feature Selection"
   ]
  },
  {
   "cell_type": "code",
   "execution_count": null,
   "metadata": {},
   "outputs": [],
   "source": [
    "#Elimino le feature 'AppointmentID', 'AppointmentDay' e 'ScheduledDay' perchè non sono utili per la nostra previsione\n",
    "\n",
    "train = train.drop(['AppointmentID', 'AppointmentDay', 'ScheduledDay'], axis=1)\n",
    "test = test.drop(['AppointmentID', 'AppointmentDay', 'ScheduledDay'], axis=1)"
   ]
  },
  {
   "cell_type": "markdown",
   "metadata": {},
   "source": [
    "## Separo i Dataset dalle rispettive Label "
   ]
  },
  {
   "cell_type": "code",
   "execution_count": null,
   "metadata": {},
   "outputs": [],
   "source": [
    "y_train = train['No-show']           # vector of labels (dependent variable)\n",
    "X_train = train.drop(['No-show'], axis=1)      # remove the dependent variable from the dataframe Train\n",
    "\n",
    "y_test = test['No-show']           # vector of labels (dependent variable)\n",
    "X_test = test.drop(['No-show'], axis=1)      # remove the dependent variable from the dataframe Test  "
   ]
  },
  {
   "cell_type": "markdown",
   "metadata": {},
   "source": [
    "# Modello "
   ]
  },
  {
   "cell_type": "code",
   "execution_count": null,
   "metadata": {},
   "outputs": [],
   "source": [
    "#Logistic Regression\n",
    "from sklearn.linear_model import LogisticRegression\n",
    "from sklearn.metrics import plot_confusion_matrix\n",
    "\n",
    "model = LogisticRegression(random_state=0, max_iter = 10000)\n",
    "model.fit(X_train, y_train)\n",
    "y_pred = model.predict(X_test)\n",
    "acc_logregress = round(accuracy_score(y_test, y_pred) * 100, 2)\n",
    "print(\"Accuracy:\"  , acc_logregress)\n",
    "\n",
    "plot_confusion_matrix(model, X_test, y_test, values_format='n', display_labels=['No','Yes'])\n",
    "plt.show()"
   ]
  },
  {
   "cell_type": "code",
   "execution_count": null,
   "metadata": {},
   "outputs": [],
   "source": []
  },
  {
   "cell_type": "code",
   "execution_count": null,
   "metadata": {},
   "outputs": [],
   "source": []
  },
  {
   "cell_type": "code",
   "execution_count": null,
   "metadata": {},
   "outputs": [],
   "source": []
  }
 ],
 "metadata": {
  "kernelspec": {
   "display_name": "Python 3",
   "language": "python",
   "name": "python3"
  },
  "language_info": {
   "codemirror_mode": {
    "name": "ipython",
    "version": 3
   },
   "file_extension": ".py",
   "mimetype": "text/x-python",
   "name": "python",
   "nbconvert_exporter": "python",
   "pygments_lexer": "ipython3",
   "version": "3.7.6"
  }
 },
 "nbformat": 4,
 "nbformat_minor": 4
}
